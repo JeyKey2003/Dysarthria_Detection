{
 "cells": [
  {
   "cell_type": "code",
   "execution_count": 2,
   "metadata": {},
   "outputs": [],
   "source": [
    "import os\n",
    "import numpy as np\n",
    "import librosa\n",
    "import soundfile as sf\n",
    "from tqdm import tqdm"
   ]
  },
  {
   "cell_type": "code",
   "execution_count": 3,
   "metadata": {},
   "outputs": [],
   "source": [
    "import audioread"
   ]
  },
  {
   "cell_type": "code",
   "execution_count": 4,
   "metadata": {},
   "outputs": [],
   "source": [
    "\n",
    "# def get_audio_lengths(directory):\n",
    "#     \"\"\"Get lengths of all audio files in the directory.\"\"\"\n",
    "#     lengths = []\n",
    "#     for root, _, files in os.walk(directory):\n",
    "#         for file in files:\n",
    "#             if file.endswith('.wav'):\n",
    "#                 filepath = os.path.join(root, file)\n",
    "#                 y, sr = librosa.load(filepath, sr=None)\n",
    "#                 lengths.append(len(y) / sr)  # Duration in seconds\n",
    "#     return np.array(lengths)\n",
    "\n",
    "# def compute_target_length(lengths, percentile=90):\n",
    "#     \"\"\"Compute target length based on the given percentile.\"\"\"\n",
    "#     return np.percentile(lengths, percentile)\n",
    "\n",
    "# def process_audio(signal, target_length, sr):\n",
    "#     \"\"\"Pad or truncate audio to match the target length.\"\"\"\n",
    "#     target_samples = int(target_length * sr)\n",
    "\n",
    "#     # Truncate or pad the signal\n",
    "#     if len(signal) > target_samples:\n",
    "#         start = (len(signal) - target_samples) // 2\n",
    "#         signal = signal[start:start + target_samples]\n",
    "#     else:\n",
    "#         signal = np.pad(signal, (0, target_samples - len(signal)), mode='constant')\n",
    "    \n",
    "#     return signal\n",
    "\n",
    "# def normalize_audio_lengths(src_dir, dest_dir, target_length):\n",
    "#     \"\"\"Normalize all audio files and save to the modified dataset directory.\"\"\"\n",
    "#     if not os.path.exists(dest_dir):\n",
    "#         os.makedirs(dest_dir)\n",
    "\n",
    "#     for root, _, files in os.walk(src_dir):\n",
    "#         for file in tqdm(files):\n",
    "#             if file.endswith('.wav'):\n",
    "#                 src_path = os.path.join(root, file)\n",
    "#                 relative_path = os.path.relpath(root, src_dir)\n",
    "#                 dest_path = os.path.join(dest_dir, relative_path)\n",
    "\n",
    "#                 # Create destination subfolder if not exists\n",
    "#                 os.makedirs(dest_path, exist_ok=True)\n",
    "\n",
    "#                 # Load audio\n",
    "#                 y, sr = librosa.load(src_path, sr=None)\n",
    "                \n",
    "#                 # Process and save audio\n",
    "#                 processed_signal = process_audio(y, target_length, sr)\n",
    "#                 sf.write(os.path.join(dest_path, file), processed_signal, sr)"
   ]
  },
  {
   "cell_type": "code",
   "execution_count": 5,
   "metadata": {},
   "outputs": [],
   "source": [
    "\n",
    "def get_audio_lengths(directory):\n",
    "    \"\"\"Get lengths of all audio files in the directory.\"\"\"\n",
    "    lengths = []\n",
    "    for root, _, files in os.walk(directory):\n",
    "        for file in tqdm(files, desc = 'Loading Files'):\n",
    "            if file.endswith('.wav'):\n",
    "                filepath = os.path.join(root, file)\n",
    "                y, sr = librosa.load(filepath)\n",
    "                lengths.append(len(y) / sr)  # Duration in seconds\n",
    "    return np.array(lengths)\n",
    "\n",
    "def compute_target_length(lengths, percentile=90):\n",
    "    \"\"\"Compute target length based on the given percentile.\"\"\"\n",
    "    return np.percentile(lengths, percentile)\n",
    "\n",
    "def process_audio(signal, target_length, sr):\n",
    "    \"\"\"Pad or truncate audio to match the target length.\"\"\"\n",
    "    target_samples = int(target_length * sr)\n",
    "\n",
    "    # Truncate or pad the signal\n",
    "    if len(signal) > target_samples:\n",
    "        start = (len(signal) - target_samples) // 2\n",
    "        signal = signal[start:start + target_samples]\n",
    "    else:\n",
    "        signal = np.pad(signal, (0, target_samples - len(signal)), mode='constant')\n",
    "    \n",
    "    return signal\n",
    "\n",
    "def normalize_audio_lengths(src_dir, dest_dir, target_length):\n",
    "    \"\"\"Normalize all audio files and save to the modified dataset directory.\"\"\"\n",
    "    if not os.path.exists(dest_dir):\n",
    "        os.makedirs(dest_dir)\n",
    "\n",
    "    for root, _, files in os.walk(src_dir):\n",
    "        for file in tqdm(files, desc = 'Saving Files'):\n",
    "            if file.endswith('.wav'):\n",
    "                src_path = os.path.join(root, file)\n",
    "                relative_path = os.path.relpath(root, src_dir)\n",
    "                dest_path = os.path.join(dest_dir, relative_path)\n",
    "\n",
    "                # Create destination subfolder if not exists\n",
    "                os.makedirs(dest_path, exist_ok=True)\n",
    "\n",
    "                # Load audio\n",
    "                y, sr = librosa.load(src_path)\n",
    "                \n",
    "                # Process and save audio\n",
    "                processed_signal = process_audio(y, target_length, sr)\n",
    "                sf.write(os.path.join(dest_path, file), processed_signal, sr)"
   ]
  },
  {
   "cell_type": "code",
   "execution_count": 6,
   "metadata": {},
   "outputs": [
    {
     "name": "stderr",
     "output_type": "stream",
     "text": [
      "Loading Files: 100%|██████████| 1/1 [00:00<?, ?it/s]"
     ]
    },
    {
     "name": "stderr",
     "output_type": "stream",
     "text": [
      "\n",
      "Loading Files: 100%|██████████| 499/499 [00:05<00:00, 90.19it/s] \n",
      "Loading Files: 100%|██████████| 500/500 [00:01<00:00, 380.47it/s]\n",
      "Loading Files: 100%|██████████| 500/500 [00:01<00:00, 488.41it/s]\n",
      "Loading Files: 100%|██████████| 500/500 [00:00<00:00, 510.58it/s]\n"
     ]
    },
    {
     "name": "stdout",
     "output_type": "stream",
     "text": [
      "Analyzed 1999 audio files.\n",
      "Average duration: 3.13 seconds\n",
      "Maximum duration: 25.32 seconds\n",
      "Target length for 90th percentile coverage: 5.43 seconds\n"
     ]
    },
    {
     "name": "stderr",
     "output_type": "stream",
     "text": [
      "Saving Files: 100%|██████████| 1/1 [00:00<?, ?it/s]\n",
      "Saving Files: 100%|██████████| 499/499 [00:02<00:00, 194.84it/s]\n",
      "Saving Files: 100%|██████████| 500/500 [00:02<00:00, 185.97it/s]\n",
      "Saving Files: 100%|██████████| 500/500 [00:02<00:00, 193.43it/s]\n",
      "Saving Files: 100%|██████████| 500/500 [00:02<00:00, 200.15it/s]"
     ]
    },
    {
     "name": "stdout",
     "output_type": "stream",
     "text": [
      "Normalized audio files saved to 'modified_dataset'\n"
     ]
    },
    {
     "name": "stderr",
     "output_type": "stream",
     "text": [
      "\n"
     ]
    }
   ],
   "source": [
    "src_directory = 'torgo_data'\n",
    "dest_directory = 'modified_dataset'\n",
    "\n",
    "# Analyze audio lengths\n",
    "audio_lengths = get_audio_lengths(src_directory)\n",
    "print(f\"Analyzed {len(audio_lengths)} audio files.\")\n",
    "print(f\"Average duration: {np.mean(audio_lengths):.2f} seconds\")\n",
    "print(f\"Maximum duration: {np.max(audio_lengths):.2f} seconds\")\n",
    "\n",
    "# Determine target length covering 90% of the data\n",
    "target_length = compute_target_length(audio_lengths, percentile=90)\n",
    "print(f\"Target length for 90th percentile coverage: {target_length:.2f} seconds\")\n",
    " \n",
    "# Normalize audio lengths and save to modified dataset\n",
    "normalize_audio_lengths(src_directory, dest_directory, target_length)\n",
    "print(f\"Normalized audio files saved to '{dest_directory}'\")\n"
   ]
  },
  {
   "cell_type": "code",
   "execution_count": 7,
   "metadata": {},
   "outputs": [
    {
     "name": "stderr",
     "output_type": "stream",
     "text": [
      "Loading Files: 0it [00:00, ?it/s]\n",
      "Loading Files: 100%|██████████| 499/499 [00:04<00:00, 106.75it/s]\n",
      "Loading Files: 100%|██████████| 500/500 [00:04<00:00, 106.78it/s]\n",
      "Loading Files: 100%|██████████| 500/500 [00:04<00:00, 121.64it/s]\n",
      "Loading Files: 100%|██████████| 500/500 [00:04<00:00, 122.16it/s]"
     ]
    },
    {
     "name": "stdout",
     "output_type": "stream",
     "text": [
      "[5.43201814]\n"
     ]
    },
    {
     "name": "stderr",
     "output_type": "stream",
     "text": [
      "\n"
     ]
    }
   ],
   "source": [
    "lengths = get_audio_lengths(dest_directory)\n",
    "print(np.unique(lengths))"
   ]
  },
  {
   "cell_type": "code",
   "execution_count": 15,
   "metadata": {},
   "outputs": [
    {
     "name": "stderr",
     "output_type": "stream",
     "text": [
      "Loading dysarthria_female: 100%|██████████| 499/499 [00:00<00:00, 1223.49it/s]\n",
      "Loading dysarthria_male: 100%|██████████| 500/500 [00:00<00:00, 1176.00it/s]\n",
      "Loading non_dysarthria_female: 100%|██████████| 500/500 [00:00<00:00, 1007.14it/s]\n",
      "Loading non_dysarthria_male: 100%|██████████| 500/500 [00:00<00:00, 1120.56it/s]\n"
     ]
    }
   ],
   "source": [
    "import os\n",
    "import librosa\n",
    "\n",
    "def load_audio_files(root_dir):\n",
    "    audio_data = {}\n",
    "\n",
    "    for folder in os.listdir(root_dir):\n",
    "        folder_path = os.path.join(root_dir, folder)\n",
    "        \n",
    "        if os.path.isdir(folder_path):  # Ensure it's a directory\n",
    "            audio_data[folder] = {}\n",
    "            \n",
    "            for file in tqdm(os.listdir(folder_path), desc=f\"Loading {folder}\"):\n",
    "                if file.endswith('.wav'):  # Adjust if file format differs\n",
    "                    file_path = os.path.join(folder_path, file)\n",
    "                    audio, sr = librosa.load(file_path, sr=None)\n",
    "                    audio_data[folder][file] = {\"audio\": audio, \"sr\": sr}\n",
    "    \n",
    "    return audio_data\n",
    "\n",
    "# Example usage\n",
    "root_directory = 'modified_dataset'\n",
    "audio_dict = load_audio_files(root_directory)\n"
   ]
  },
  {
   "cell_type": "code",
   "execution_count": 16,
   "metadata": {},
   "outputs": [
    {
     "name": "stdout",
     "output_type": "stream",
     "text": [
      "dict_keys(['dysarthria_female', 'dysarthria_male', 'non_dysarthria_female', 'non_dysarthria_male'])\n",
      "dict_keys(['F01_Session1_0001.wav', 'F01_Session1_0002.wav', 'F01_Session1_0004.wav', 'F01_Session1_0006.wav', 'F01_Session1_0007.wav', 'F01_Session1_0008.wav', 'F01_Session1_0013.wav', 'F01_Session1_0015.wav', 'F01_Session1_0017.wav', 'F01_Session1_0018.wav', 'F01_Session1_0021.wav', 'F01_Session1_0022.wav', 'F01_Session1_0024.wav', 'F01_Session1_0026.wav', 'F01_Session1_0029.wav', 'F01_Session1_0030.wav', 'F01_Session1_0034.wav', 'F01_Session1_0035.wav', 'F01_Session1_0038.wav', 'F01_Session1_0039.wav', 'F01_Session1_0041.wav', 'F01_Session1_0042.wav', 'F01_Session1_0045.wav', 'F01_Session1_0046.wav', 'F01_Session1_0048.wav', 'F01_Session1_0051.wav', 'F01_Session1_0052.wav', 'F01_Session1_0053.wav', 'F01_Session1_0055.wav', 'F01_Session1_0056.wav', 'F01_Session1_0060.wav', 'F01_Session1_0063.wav', 'F01_Session1_0064.wav', 'F01_Session1_0065.wav', 'F01_Session1_0066.wav', 'F01_Session1_0070.wav', 'F01_Session1_0073.wav', 'F01_Session1_0074.wav', 'F01_Session1_0075.wav', 'F01_Session1_0076.wav', 'F01_Session1_0077.wav', 'F01_Session1_0078.wav', 'F01_Session1_0080.wav', 'F01_Session1_0081.wav', 'F01_Session1_0082.wav', 'F01_Session1_0086.wav', 'F01_Session1_0087.wav', 'F01_Session1_0090.wav', 'F01_Session1_0091.wav', 'F01_Session1_0094.wav', 'F01_Session1_0095.wav', 'F01_Session1_0097.wav', 'F01_Session1_0098.wav', 'F01_Session1_0099.wav', 'F01_Session1_0100.wav', 'F01_Session1_0102.wav', 'F01_Session1_0103.wav', 'F01_Session1_0104.wav', 'F01_Session1_0106.wav', 'F01_Session1_0108.wav', 'F01_Session1_0110.wav', 'F01_Session1_0113.wav', 'F01_Session1_0116.wav', 'F01_Session1_0117.wav', 'F01_Session1_0118.wav', 'F01_Session1_0119.wav', 'F01_Session1_0120.wav', 'F01_Session1_0124.wav', 'F01_Session1_0126.wav', 'F01_Session1_0127.wav', 'F01_Session1_0128.wav', 'F01_Session1_0129.wav', 'F01_Session1_0132.wav', 'F01_Session1_0133.wav', 'F03_Session1_0001.wav', 'F03_Session1_0002.wav', 'F03_Session1_0003.wav', 'F03_Session1_0004.wav', 'F03_Session1_0006.wav', 'F03_Session1_0009.wav', 'F03_Session1_0014.wav', 'F03_Session1_0015.wav', 'F03_Session1_0016.wav', 'F03_Session1_0018.wav', 'F03_Session1_0019.wav', 'F03_Session1_0027.wav', 'F03_Session1_0029.wav', 'F03_Session1_0030.wav', 'F03_Session1_0031.wav', 'F03_Session1_0034.wav', 'F03_Session1_0035.wav', 'F03_Session1_0037.wav', 'F03_Session1_0040.wav', 'F03_Session1_0042.wav', 'F03_Session1_0043.wav', 'F03_Session1_0045.wav', 'F03_Session1_0047.wav', 'F03_Session1_0048.wav', 'F03_Session1_0049.wav', 'F03_Session1_0050.wav', 'F03_Session1_0054.wav', 'F03_Session1_0055.wav', 'F03_Session1_0056.wav', 'F03_Session1_0057.wav', 'F03_Session1_0058.wav', 'F03_Session1_0063.wav', 'F03_Session1_0064.wav', 'F03_Session1_0071.wav', 'F03_Session1_0072.wav', 'F03_Session1_0073.wav', 'F03_Session1_0076.wav', 'F03_Session1_0077.wav', 'F03_Session1_0078.wav', 'F03_Session1_0081.wav', 'F03_Session1_0085.wav', 'F03_Session1_0086.wav', 'F03_Session1_0087.wav', 'F03_Session1_0090.wav', 'F03_Session1_0092.wav', 'F03_Session1_0093.wav', 'F03_Session1_0095.wav', 'F03_Session1_0096.wav', 'F03_Session1_0098.wav', 'F03_Session1_0101.wav', 'F03_Session1_0102.wav', 'F03_Session1_0103.wav', 'F03_Session1_0105.wav', 'F03_Session1_0111.wav', 'F03_Session1_0112.wav', 'F03_Session1_0113.wav', 'F03_Session1_0115.wav', 'F03_Session1_0116.wav', 'F03_Session1_0120.wav', 'F03_Session1_0121.wav', 'F03_Session1_0124.wav', 'F03_Session1_0125.wav', 'F03_Session1_0126.wav', 'F03_Session1_0127.wav', 'F03_Session1_0128.wav', 'F03_Session1_0130.wav', 'F03_Session1_0131.wav', 'F03_Session1_0133.wav', 'F03_Session1_0134.wav', 'F03_Session1_0135.wav', 'F03_Session1_0138.wav', 'F03_Session1_0139.wav', 'F03_Session1_0142.wav', 'F03_Session1_0146.wav', 'F03_Session1_0147.wav', 'F03_Session1_0151.wav', 'F03_Session1_0155.wav', 'F03_Session1_0156.wav', 'F03_Session1_0157.wav', 'F03_Session1_0159.wav', 'F03_Session1_0160.wav', 'F03_Session1_0165.wav', 'F03_Session1_0168.wav', 'F03_Session1_0169.wav', 'F03_Session1_0172.wav', 'F03_Session1_0173.wav', 'F03_Session1_0175.wav', 'F03_Session1_0180.wav', 'F03_Session1_0181.wav', 'F03_Session1_0183.wav', 'F03_Session1_0184.wav', 'F03_Session1_0185.wav', 'F03_Session1_0187.wav', 'F03_Session1_0188.wav', 'F03_Session1_0193.wav', 'F03_Session1_0197.wav', 'F03_Session1_0202.wav', 'F03_Session1_0203.wav', 'F03_Session2_0001.wav', 'F03_Session2_0003.wav', 'F03_Session2_0004.wav', 'F03_Session2_0007.wav', 'F03_Session2_0008.wav', 'F03_Session2_0010.wav', 'F03_Session2_0014.wav', 'F03_Session2_0015.wav', 'F03_Session2_0017.wav', 'F03_Session2_0020.wav', 'F03_Session2_0024.wav', 'F03_Session2_0026.wav', 'F03_Session2_0028.wav', 'F03_Session2_0029.wav', 'F03_Session2_0032.wav', 'F03_Session2_0035.wav', 'F03_Session2_0036.wav', 'F03_Session2_0037.wav', 'F03_Session2_0038.wav', 'F03_Session2_0039.wav', 'F03_Session2_0040.wav', 'F03_Session2_0043.wav', 'F03_Session2_0044.wav', 'F03_Session2_0045.wav', 'F03_Session2_0047.wav', 'F03_Session2_0048.wav', 'F03_Session2_0050.wav', 'F03_Session2_0051.wav', 'F03_Session2_0052.wav', 'F03_Session2_0053.wav', 'F03_Session2_0054.wav', 'F03_Session2_0056.wav', 'F03_Session2_0057.wav', 'F03_Session2_0059.wav', 'F03_Session2_0060.wav', 'F03_Session2_0061.wav', 'F03_Session2_0062.wav', 'F03_Session2_0063.wav', 'F03_Session2_0064.wav', 'F03_Session2_0068.wav', 'F03_Session2_0069.wav', 'F03_Session2_0070.wav', 'F03_Session2_0073.wav', 'F03_Session2_0075.wav', 'F03_Session2_0076.wav', 'F03_Session2_0084.wav', 'F03_Session2_0089.wav', 'F03_Session2_0091.wav', 'F03_Session2_0092.wav', 'F03_Session2_0094.wav', 'F03_Session2_0096.wav', 'F03_Session2_0097.wav', 'F03_Session2_0098.wav', 'F03_Session2_0100.wav', 'F03_Session2_0101.wav', 'F03_Session2_0102.wav', 'F03_Session2_0103.wav', 'F03_Session2_0104.wav', 'F03_Session2_0105.wav', 'F03_Session2_0107.wav', 'F03_Session2_0108.wav', 'F03_Session2_0109.wav', 'F03_Session2_0110.wav', 'F03_Session2_0115.wav', 'F03_Session2_0119.wav', 'F03_Session2_0120.wav', 'F03_Session2_0121.wav', 'F03_Session2_0122.wav', 'F03_Session2_0123.wav', 'F03_Session2_0124.wav', 'F03_Session2_0127.wav', 'F03_Session2_0129.wav', 'F03_Session2_0131.wav', 'F03_Session2_0135.wav', 'F03_Session2_0136.wav', 'F03_Session2_0137.wav', 'F03_Session2_0139.wav', 'F03_Session2_0140.wav', 'F03_Session2_0141.wav', 'F03_Session2_0147.wav', 'F03_Session2_0150.wav', 'F03_Session2_0151.wav', 'F03_Session2_0154.wav', 'F03_Session2_0155.wav', 'F03_Session2_0156.wav', 'F03_Session2_0157.wav', 'F03_Session3_0002.wav', 'F03_Session3_0003.wav', 'F03_Session3_0004.wav', 'F03_Session3_0005.wav', 'F03_Session3_0006.wav', 'F03_Session3_0010.wav', 'F03_Session3_0011.wav', 'F03_Session3_0012.wav', 'F03_Session3_0013.wav', 'F03_Session3_0014.wav', 'F03_Session3_0016.wav', 'F03_Session3_0017.wav', 'F03_Session3_0019.wav', 'F03_Session3_0020.wav', 'F03_Session3_0023.wav', 'F03_Session3_0025.wav', 'F03_Session3_0026.wav', 'F03_Session3_0028.wav', 'F03_Session3_0032.wav', 'F03_Session3_0035.wav', 'F03_Session3_0036.wav', 'F03_Session3_0038.wav', 'F03_Session3_0039.wav', 'F03_Session3_0041.wav', 'F03_Session3_0043.wav', 'F03_Session3_0049.wav', 'F03_Session3_0050.wav', 'F03_Session3_0051.wav', 'F03_Session3_0052.wav', 'F03_Session3_0053.wav', 'F03_Session3_0055.wav', 'F03_Session3_0056.wav', 'F03_Session3_0058.wav', 'F03_Session3_0059.wav', 'F03_Session3_0060.wav', 'F03_Session3_0063.wav', 'F03_Session3_0065.wav', 'F03_Session3_0067.wav', 'F03_Session3_0069.wav', 'F03_Session3_0071.wav', 'F03_Session3_0074.wav', 'F03_Session3_0075.wav', 'F03_Session3_0076.wav', 'F03_Session3_0078.wav', 'F03_Session3_0080.wav', 'F03_Session3_0084.wav', 'F03_Session3_0085.wav', 'F03_Session3_0086.wav', 'F03_Session3_0087.wav', 'F03_Session3_0088.wav', 'F03_Session3_0089.wav', 'F03_Session3_0090.wav', 'F03_Session3_0093.wav', 'F03_Session3_0095.wav', 'F03_Session3_0097.wav', 'F03_Session3_0098.wav', 'F03_Session3_0099.wav', 'F03_Session3_0103.wav', 'F03_Session3_0105.wav', 'F03_Session3_0109.wav', 'F03_Session3_0110.wav', 'F03_Session3_0111.wav', 'F03_Session3_0113.wav', 'F03_Session3_0114.wav', 'F03_Session3_0117.wav', 'F03_Session3_0121.wav', 'F03_Session3_0122.wav', 'F03_Session3_0124.wav', 'F03_Session3_0127.wav', 'F03_Session3_0128.wav', 'F03_Session3_0130.wav', 'F03_Session3_0131.wav', 'F03_Session3_0132.wav', 'F03_Session3_0133.wav', 'F03_Session3_0136.wav', 'F03_Session3_0140.wav', 'F03_Session3_0141.wav', 'F03_Session3_0142.wav', 'F03_Session3_0143.wav', 'F03_Session3_0145.wav', 'F03_Session3_0147.wav', 'F03_Session3_0154.wav', 'F03_Session3_0157.wav', 'F03_Session3_0163.wav', 'F03_Session3_0165.wav', 'F03_Session3_0169.wav', 'F03_Session3_0171.wav', 'F03_Session3_0172.wav', 'F03_Session3_0174.wav', 'F03_Session3_0175.wav', 'F03_Session3_0176.wav', 'F03_Session3_0178.wav', 'F03_Session3_0180.wav', 'F03_Session3_0183.wav', 'F03_Session3_0184.wav', 'F03_Session3_0185.wav', 'F03_Session3_0189.wav', 'F03_Session3_0191.wav', 'F03_Session3_0193.wav', 'F03_Session3_0194.wav', 'F03_Session3_0196.wav', 'F03_Session3_0197.wav', 'F03_Session3_0201.wav', 'F03_Session3_0202.wav', 'F03_Session3_0205.wav', 'F03_Session3_0206.wav', 'F03_Session3_0211.wav', 'F03_Session3_0213.wav', 'F04_Session2_0002.wav', 'F04_Session2_0003.wav', 'F04_Session2_0005.wav', 'F04_Session2_0006.wav', 'F04_Session2_0008.wav', 'F04_Session2_0010.wav', 'F04_Session2_0012.wav', 'F04_Session2_0015.wav', 'F04_Session2_0019.wav', 'F04_Session2_0020.wav', 'F04_Session2_0021.wav', 'F04_Session2_0023.wav', 'F04_Session2_0024.wav', 'F04_Session2_0026.wav', 'F04_Session2_0027.wav', 'F04_Session2_0028.wav', 'F04_Session2_0030.wav', 'F04_Session2_0033.wav', 'F04_Session2_0034.wav', 'F04_Session2_0035.wav', 'F04_Session2_0036.wav', 'F04_Session2_0037.wav', 'F04_Session2_0038.wav', 'F04_Session2_0039.wav', 'F04_Session2_0041.wav', 'F04_Session2_0042.wav', 'F04_Session2_0043.wav', 'F04_Session2_0044.wav', 'F04_Session2_0048.wav', 'F04_Session2_0049.wav', 'F04_Session2_0050.wav', 'F04_Session2_0053.wav', 'F04_Session2_0057.wav', 'F04_Session2_0058.wav', 'F04_Session2_0059.wav', 'F04_Session2_0060.wav', 'F04_Session2_0061.wav', 'F04_Session2_0063.wav', 'F04_Session2_0064.wav', 'F04_Session2_0066.wav', 'F04_Session2_0067.wav', 'F04_Session2_0068.wav', 'F04_Session2_0070.wav', 'F04_Session2_0071.wav', 'F04_Session2_0072.wav', 'F04_Session2_0073.wav', 'F04_Session2_0075.wav', 'F04_Session2_0076.wav', 'F04_Session2_0077.wav', 'F04_Session2_0080.wav', 'F04_Session2_0081.wav', 'F04_Session2_0082.wav', 'F04_Session2_0083.wav', 'F04_Session2_0084.wav', 'F04_Session2_0089.wav', 'F04_Session2_0092.wav', 'F04_Session2_0095.wav', 'F04_Session2_0096.wav', 'F04_Session2_0101.wav', 'F04_Session2_0105.wav', 'F04_Session2_0106.wav', 'F04_Session2_0107.wav', 'F04_Session2_0108.wav', 'F04_Session2_0109.wav', 'F04_Session2_0111.wav', 'F04_Session2_0113.wav', 'F04_Session2_0114.wav', 'F04_Session2_0117.wav', 'F04_Session2_0119.wav', 'F04_Session2_0120.wav', 'F04_Session2_0121.wav', 'F04_Session2_0124.wav', 'F04_Session2_0128.wav', 'F04_Session2_0133.wav', 'F04_Session2_0137.wav', 'F04_Session2_0139.wav', 'F04_Session2_0141.wav', 'F04_Session2_0143.wav', 'F04_Session2_0145.wav', 'F04_Session2_0147.wav', 'F04_Session2_0151.wav', 'F04_Session2_0152.wav', 'F04_Session2_0153.wav', 'F04_Session2_0154.wav', 'F04_Session2_0155.wav', 'F04_Session2_0157.wav', 'F04_Session2_0158.wav', 'F04_Session2_0161.wav', 'F04_Session2_0162.wav', 'F04_Session2_0163.wav', 'F04_Session2_0166.wav', 'F04_Session2_0167.wav', 'F04_Session2_0174.wav', 'F04_Session2_0175.wav', 'F04_Session2_0178.wav', 'F04_Session2_0179.wav', 'F04_Session2_0183.wav', 'F04_Session2_0184.wav', 'F04_Session2_0185.wav', 'F04_Session2_0186.wav', 'F04_Session2_0187.wav', 'F04_Session2_0188.wav', 'F04_Session2_0190.wav', 'F04_Session2_0193.wav', 'F04_Session2_0195.wav', 'F04_Session2_0196.wav', 'F04_Session2_0197.wav', 'F04_Session2_0198.wav', 'F04_Session2_0200.wav', 'F04_Session2_0202.wav', 'F04_Session2_0207.wav', 'F04_Session2_0208.wav', 'F04_Session2_0209.wav', 'F04_Session2_0212.wav', 'F04_Session2_0213.wav', 'F04_Session2_0218.wav', 'F04_Session2_0220.wav', 'F04_Session2_0221.wav', 'F04_Session2_0222.wav', 'F04_Session2_0223.wav', 'F04_Session2_0227.wav', 'F04_Session2_0228.wav', 'F04_Session2_0229.wav', 'F04_Session2_0230.wav', 'F04_Session2_0234.wav', 'F04_Session2_0235.wav', 'F04_Session2_0236.wav', 'F04_Session2_0238.wav', 'F04_Session2_0243.wav', 'F04_Session2_0244.wav', 'F04_Session2_0247.wav', 'F04_Session2_0249.wav', 'F04_Session2_0250.wav'])\n"
     ]
    }
   ],
   "source": [
    "print(audio_dict.keys())\n",
    "print(audio_dict['dysarthria_female'].keys())"
   ]
  },
  {
   "cell_type": "code",
   "execution_count": 17,
   "metadata": {},
   "outputs": [],
   "source": [
    "def compute_mfcc_dict(audio_dict, n_mfcc=13, window_size=2048, hop_length=512):\n",
    "    mfcc_dict = {}\n",
    "\n",
    "    for folder, files in audio_dict.items():\n",
    "        mfcc_dict[folder] = {}\n",
    "        \n",
    "        for file_name, data in tqdm(files.items(), desc=f\"Computing MFCCs for {folder}\"):\n",
    "            audio, sr = data['audio'], data['sr']\n",
    "            mfcc = librosa.feature.mfcc(y=audio, sr=sr, n_mfcc=n_mfcc, \n",
    "                                        n_fft=window_size, hop_length=hop_length)\n",
    "            mfcc_dict[folder][file_name] = mfcc\n",
    "\n",
    "    return mfcc_dict"
   ]
  },
  {
   "cell_type": "code",
   "execution_count": 18,
   "metadata": {},
   "outputs": [
    {
     "name": "stderr",
     "output_type": "stream",
     "text": [
      "Computing MFCCs for dysarthria_female: 100%|██████████| 499/499 [00:05<00:00, 97.24it/s] \n",
      "Computing MFCCs for dysarthria_male: 100%|██████████| 500/500 [00:04<00:00, 105.49it/s]\n",
      "Computing MFCCs for non_dysarthria_female: 100%|██████████| 500/500 [00:04<00:00, 103.49it/s]\n",
      "Computing MFCCs for non_dysarthria_male: 100%|██████████| 500/500 [00:05<00:00, 86.16it/s]\n"
     ]
    }
   ],
   "source": [
    "mfcc_dict = compute_mfcc_dict(audio_dict)"
   ]
  },
  {
   "cell_type": "code",
   "execution_count": null,
   "metadata": {},
   "outputs": [
    {
     "data": {
      "image/png": "[encoded data removed]",
      "text/plain": [
       "<Figure size 1000x400 with 2 Axes>"
      ]
     },
     "metadata": {},
     "output_type": "display_data"
    }
   ],
   "source": [
    "import matplotlib.pyplot as plt\n",
    "\n",
    "def plot_mfcc(mfcc, title=\"MFCC\"):\n",
    "    plt.figure(figsize=(10, 4))\n",
    "    plt.imshow(mfcc, cmap='viridis', origin='lower', aspect='auto')\n",
    "    plt.colorbar()\n",
    "    plt.title(title)\n",
    "    plt.tight_layout()\n",
    "    plt.show()\n",
    "\n",
    "plot_mfcc(mfcc_dict['dysarthria_female']['F01_Session1_0002.wav'])"
   ]
  },
  {
   "cell_type": "code",
   "execution_count": 23,
   "metadata": {},
   "outputs": [
    {
     "data": {
      "image/png": "[encoded data removed]",
      "text/plain": [
       "<Figure size 1000x400 with 2 Axes>"
      ]
     },
     "metadata": {},
     "output_type": "display_data"
    }
   ],
   "source": [
    "plot_mfcc(mfcc_dict['non_dysarthria_female']['FC01_Session1_0008.wav'])"
   ]
  }
 ],
 "metadata": {
  "kernelspec": {
   "display_name": "base",
   "language": "python",
   "name": "python3"
  },
  "language_info": {
   "codemirror_mode": {
    "name": "ipython",
    "version": 3
   },
   "file_extension": ".py",
   "mimetype": "text/x-python",
   "name": "python",
   "nbconvert_exporter": "python",
   "pygments_lexer": "ipython3",
   "version": "3.10.10"
  }
 },
 "nbformat": 4,
 "nbformat_minor": 2
}
